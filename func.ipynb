{
 "cells": [
  {
   "cell_type": "code",
   "execution_count": 1,
   "metadata": {},
   "outputs": [],
   "source": [
    "# func to calculate area of cube\n",
    "# 1. bekar function\n",
    "def area_cube():\n",
    "    side = it(input(\"Enter side of cube: \"))    # don't take input in function\n",
    "    ans = side ** 3\n",
    "    print(f'Area of cube is {ans}')     # don't print result in function\n"
   ]
  },
  {
   "cell_type": "code",
   "execution_count": 3,
   "metadata": {},
   "outputs": [],
   "source": [
    "def area_cube(x):\n",
    "    ans = x ** 3\n",
    "    print(f'Area of object is {ans}')"
   ]
  },
  {
   "cell_type": "code",
   "execution_count": 4,
   "metadata": {},
   "outputs": [
    {
     "name": "stdout",
     "output_type": "stream",
     "text": [
      "Area of object is 125\n"
     ]
    }
   ],
   "source": [
    "area_cube(5)"
   ]
  },
  {
   "cell_type": "code",
   "execution_count": 5,
   "metadata": {},
   "outputs": [
    {
     "name": "stdout",
     "output_type": "stream",
     "text": [
      "Area of object is 64\n"
     ]
    }
   ],
   "source": [
    "side = int(input(\"Enter a side of cube: \"))\n",
    "area_cube(side)"
   ]
  },
  {
   "cell_type": "code",
   "execution_count": 6,
   "metadata": {},
   "outputs": [
    {
     "name": "stdout",
     "output_type": "stream",
     "text": [
      "Area of object is 1\n",
      "Area of object is 8\n",
      "Area of object is 27\n",
      "Area of object is 64\n",
      "Area of object is 125\n",
      "Area of object is 216\n",
      "Area of object is 343\n",
      "Area of object is 512\n",
      "Area of object is 729\n",
      "Area of object is 1000\n"
     ]
    }
   ],
   "source": [
    "for i in range(1, 11):\n",
    "    area_cube(i)"
   ]
  },
  {
   "cell_type": "code",
   "execution_count": 7,
   "metadata": {},
   "outputs": [
    {
     "name": "stdout",
     "output_type": "stream",
     "text": [
      "Area of object is 64\n",
      "None\n"
     ]
    }
   ],
   "source": [
    "j = area_cube(4)\n",
    "print(j)"
   ]
  },
  {
   "cell_type": "code",
   "execution_count": 8,
   "metadata": {},
   "outputs": [],
   "source": [
    "def si(p :int, r: float|int, t: int):\n",
    "    return(p*r*t)/100"
   ]
  },
  {
   "cell_type": "code",
   "execution_count": 9,
   "metadata": {},
   "outputs": [
    {
     "data": {
      "text/plain": [
       "600.0"
      ]
     },
     "execution_count": 9,
     "metadata": {},
     "output_type": "execute_result"
    }
   ],
   "source": [
    "#calling function\n",
    "si(10000, 2, 3)"
   ]
  }
 ],
 "metadata": {
  "kernelspec": {
   "display_name": "base",
   "language": "python",
   "name": "python3"
  },
  "language_info": {
   "codemirror_mode": {
    "name": "ipython",
    "version": 3
   },
   "file_extension": ".py",
   "mimetype": "text/x-python",
   "name": "python",
   "nbconvert_exporter": "python",
   "pygments_lexer": "ipython3",
   "version": "3.10.8"
  },
  "orig_nbformat": 4,
  "vscode": {
   "interpreter": {
    "hash": "038bb113ee68bdf6d5e6f52203b1aa89be1437f61805c214c4f8e51fe088bf96"
   }
  }
 },
 "nbformat": 4,
 "nbformat_minor": 2
}
