{
 "cells": [
  {
   "attachments": {},
   "cell_type": "markdown",
   "metadata": {},
   "source": [
    "Loops\n",
    ": for loop\n",
    "  - step based loop\n",
    "  - special iterable\n",
    "     -range()\n",
    "     = enumerate()\n",
    "     - zip()\n",
    "  - for - else\n",
    ": while loop\n",
    "  - condition\n",
    "  -while-else"
   ]
  },
  {
   "cell_type": "code",
   "execution_count": 1,
   "metadata": {},
   "outputs": [
    {
     "name": "stdout",
     "output_type": "stream",
     "text": [
      "12\n",
      "83\n",
      "54\n",
      "99\n",
      "88\n"
     ]
    }
   ],
   "source": [
    "x=[12, 83, 54, 99, 88]\n",
    "for i in x:\n",
    "    print(i)"
   ]
  },
  {
   "cell_type": "code",
   "execution_count": 2,
   "metadata": {},
   "outputs": [
    {
     "name": "stdout",
     "output_type": "stream",
     "text": [
      "have you seen bh?\n",
      "have you seen fty?\n",
      "have you seen bby?\n",
      "have you seen yu?\n"
     ]
    }
   ],
   "source": [
    "ani = ['bh', 'fty', 'bby', 'yu']\n",
    "for an in ani:\n",
    "    print(f'have you seen {an}?')"
   ]
  },
  {
   "cell_type": "code",
   "execution_count": 3,
   "metadata": {},
   "outputs": [
    {
     "name": "stdout",
     "output_type": "stream",
     "text": [
      "bhfcgvyty | 9\n",
      "ftbybyy | 7\n",
      "bbynjn | 6\n",
      "ynjhbhjbu | 9\n"
     ]
    }
   ],
   "source": [
    "ani = ['bhfcgvyty', 'ftbybyy', 'bbynjn', 'ynjhbhjbu']\n",
    "for an in ani:\n",
    "    print(f'{an:} | {len(an)}')"
   ]
  },
  {
   "cell_type": "code",
   "execution_count": 4,
   "metadata": {},
   "outputs": [
    {
     "name": "stdout",
     "output_type": "stream",
     "text": [
      "Red\n",
      "Yellow\n",
      "Lime\n",
      "green\n",
      "Green\n",
      "Sky blue\n",
      "Crimson\n",
      "Grey\n",
      "Purple\n"
     ]
    }
   ],
   "source": [
    "color = ['Red',\t'Yellow',\t'Lime',  'green',\n",
    "'Green',\t'Sky blue',\t'Crimson',\n",
    "'Grey',\t'Purple','Mustard', 'black']\n",
    "for i in color:\n",
    "    if 'a' not in i:\n",
    "        print(i)"
   ]
  },
  {
   "cell_type": "code",
   "execution_count": 5,
   "metadata": {},
   "outputs": [
    {
     "name": "stdout",
     "output_type": "stream",
     "text": [
      "0  1  2  3  4  5  6  7  8  9  "
     ]
    }
   ],
   "source": [
    "for i in range(10):\n",
    "    print(i, end='  ')"
   ]
  },
  {
   "cell_type": "code",
   "execution_count": 6,
   "metadata": {},
   "outputs": [
    {
     "name": "stdout",
     "output_type": "stream",
     "text": [
      "(0, 'Red')\n",
      "(1, 'Yellow')\n",
      "(2, 'Lime')\n",
      "(3, 'green')\n",
      "(4, 'Green')\n",
      "(5, 'Sky blue')\n",
      "(6, 'Crimson')\n",
      "(7, 'Grey')\n",
      "(8, 'Purple')\n",
      "(9, 'Mustard')\n",
      "(10, 'black')\n"
     ]
    }
   ],
   "source": [
    "#enumeration\n",
    "for  i in enumerate(color):\n",
    "    print( i)"
   ]
  },
  {
   "cell_type": "code",
   "execution_count": 7,
   "metadata": {},
   "outputs": [
    {
     "name": "stdout",
     "output_type": "stream",
     "text": [
      "0 Red\n",
      "1 Yellow\n",
      "2 Lime\n",
      "3 green\n",
      "4 Green\n",
      "5 Sky blue\n",
      "6 Crimson\n",
      "7 Grey\n",
      "8 Purple\n",
      "9 Mustard\n",
      "10 black\n"
     ]
    }
   ],
   "source": [
    "#enumeration\n",
    "for n, i in enumerate(color):\n",
    "    print(n, i)"
   ]
  },
  {
   "cell_type": "code",
   "execution_count": 8,
   "metadata": {},
   "outputs": [],
   "source": [
    "x=[2,5,74,56,46,99]\n",
    "y=[2,5,66,87]\n",
    "z=[65,46,78,4,66,6]"
   ]
  },
  {
   "cell_type": "code",
   "execution_count": 9,
   "metadata": {},
   "outputs": [
    {
     "name": "stdout",
     "output_type": "stream",
     "text": [
      "0 2 2 65\n",
      "1 5 5 46\n",
      "2 74 66 78\n",
      "3 56 87 4\n"
     ]
    },
    {
     "ename": "IndexError",
     "evalue": "list index out of range",
     "output_type": "error",
     "traceback": [
      "\u001b[1;31m---------------------------------------------------------------------------\u001b[0m",
      "\u001b[1;31mIndexError\u001b[0m                                Traceback (most recent call last)",
      "Cell \u001b[1;32mIn[9], line 3\u001b[0m\n\u001b[0;32m      1\u001b[0m \u001b[39m#non pythonic\u001b[39;00m\n\u001b[0;32m      2\u001b[0m \u001b[39mfor\u001b[39;00m i \u001b[39min\u001b[39;00m \u001b[39mrange\u001b[39m(\u001b[39mlen\u001b[39m(x)):\n\u001b[1;32m----> 3\u001b[0m     \u001b[39mprint\u001b[39m(i, x[i],y[i], z[i])\n",
      "\u001b[1;31mIndexError\u001b[0m: list index out of range"
     ]
    }
   ],
   "source": [
    "#non pythonic\n",
    "for i in range(len(x)):\n",
    "    print(i, x[i],y[i], z[i])"
   ]
  },
  {
   "cell_type": "code",
   "execution_count": 10,
   "metadata": {},
   "outputs": [
    {
     "name": "stdout",
     "output_type": "stream",
     "text": [
      "69 56 218 147 "
     ]
    }
   ],
   "source": [
    "#pythonic\n",
    "for i,j,k in zip(x,y,z):\n",
    "    print(i+j+k, end=' ')"
   ]
  },
  {
   "cell_type": "code",
   "execution_count": 11,
   "metadata": {},
   "outputs": [
    {
     "name": "stdout",
     "output_type": "stream",
     "text": [
      "total=490\n"
     ]
    }
   ],
   "source": [
    "total=0\n",
    "for i,j,k in zip(x,y,z):\n",
    "    total+=i+j+k\n",
    "print(f'{total=}')"
   ]
  },
  {
   "cell_type": "code",
   "execution_count": 12,
   "metadata": {},
   "outputs": [
    {
     "name": "stdout",
     "output_type": "stream",
     "text": [
      "1\n"
     ]
    }
   ],
   "source": [
    "number = int(input(\"enter a number: \"))    #12345\n",
    "total = 0\n",
    "while number > 0:\n",
    "    total += number % 10    # add remainder total\n",
    "    number = number // 10   # update number from quotient\n",
    "print(total)"
   ]
  },
  {
   "cell_type": "code",
   "execution_count": 13,
   "metadata": {},
   "outputs": [
    {
     "name": "stdout",
     "output_type": "stream",
     "text": [
      "Wrong Password\n",
      "Wrong Password\n",
      "Wrong Password\n",
      "Wrong Password\n"
     ]
    }
   ],
   "source": [
    "retries = 0\n",
    "while retries <= 3:\n",
    "    pin = input(\"Enter Password: \")\n",
    "    if pin == '1234':\n",
    "        print(\"Welcome master\")\n",
    "    else:\n",
    "        print(\"Wrong Password\")\n",
    "        retries += 1"
   ]
  }
 ],
 "metadata": {
  "kernelspec": {
   "display_name": "base",
   "language": "python",
   "name": "python3"
  },
  "language_info": {
   "codemirror_mode": {
    "name": "ipython",
    "version": 3
   },
   "file_extension": ".py",
   "mimetype": "text/x-python",
   "name": "python",
   "nbconvert_exporter": "python",
   "pygments_lexer": "ipython3",
   "version": "3.10.8"
  },
  "orig_nbformat": 4,
  "vscode": {
   "interpreter": {
    "hash": "038bb113ee68bdf6d5e6f52203b1aa89be1437f61805c214c4f8e51fe088bf96"
   }
  }
 },
 "nbformat": 4,
 "nbformat_minor": 2
}
