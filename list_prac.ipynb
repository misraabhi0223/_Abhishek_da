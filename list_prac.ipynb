{
 "cells": [
  {
   "cell_type": "code",
   "execution_count": 7,
   "metadata": {},
   "outputs": [
    {
     "name": "stdout",
     "output_type": "stream",
     "text": [
      "[10, 20, 30, 40]\n"
     ]
    }
   ],
   "source": [
    "# Write a program that creates an empty list and \n",
    "# then asks the user to input integers to add to the list. Print the final list\n",
    "l1 = []\n",
    "n = int(input(\"Enter elements of the list: \"))\n",
    "for i in range(0, n):\n",
    "    element = int(input())\n",
    "    l1.append(element)\n",
    "\n",
    "print(l1)"
   ]
  },
  {
   "cell_type": "code",
   "execution_count": 15,
   "metadata": {},
   "outputs": [
    {
     "name": "stdout",
     "output_type": "stream",
     "text": [
      "55 Not found in the list!\n"
     ]
    }
   ],
   "source": [
    "# Write a program that creates a list of integers and \n",
    "# then asks the user to input an integer to check if it exists in the list. \n",
    "# Print a message indicating whether the integer is in the list or not\n",
    "x = [10, 20, 30, 40, 50, 60]\n",
    "element = int(input(\"Enter element to search in the list: \"))\n",
    "if element in x:\n",
    "    print(\"Element found at index\", x.index(element))\n",
    "else:\n",
    "    print(element, \"Not found in the list!\")"
   ]
  },
  {
   "cell_type": "code",
   "execution_count": 26,
   "metadata": {},
   "outputs": [
    {
     "name": "stdout",
     "output_type": "stream",
     "text": [
      "['Abhinav', 'Abhishek', 'Amarpreet', 'Amit', 'Anand', 'Aparichit', 'Shivam']\n"
     ]
    }
   ],
   "source": [
    "# Write a program that creates a list of strings and \n",
    "# then sorts the list alphabetically. Print the sorted list\n",
    "y = ['Abhishek', 'Abhinav', 'Amarpreet', 'Shivam', 'Amit', 'Anand', 'Aparichit']\n",
    "y.sort()\n",
    "print(y)"
   ]
  },
  {
   "cell_type": "code",
   "execution_count": 28,
   "metadata": {},
   "outputs": [
    {
     "data": {
      "text/plain": [
       "60"
      ]
     },
     "execution_count": 28,
     "metadata": {},
     "output_type": "execute_result"
    }
   ],
   "source": [
    "# Write a program that creates a list of integers and \n",
    "# then finds the maximum value in the list. Print the maximum value\n",
    "a = [10, 5, 20, 13, 3, 28, 60, 46, 7, 12, 34, 51, 20]\n",
    "max(a)"
   ]
  },
  {
   "cell_type": "code",
   "execution_count": 31,
   "metadata": {},
   "outputs": [
    {
     "name": "stdout",
     "output_type": "stream",
     "text": [
      "{35, 10, 45, 20, 30}\n"
     ]
    }
   ],
   "source": [
    "# Write a program that creates two lists of integers and \n",
    "# then finds the common elements between those two lists. Print the common elements\n",
    "a = [10, 20, 30, 35, 45, 55, 60, 70, 80]\n",
    "b = [5, 10, 15, 20, 25, 30, 35, 40, 45]\n",
    "print(set(a).intersection(b))"
   ]
  },
  {
   "cell_type": "code",
   "execution_count": null,
   "metadata": {},
   "outputs": [],
   "source": [
    "# Write a program that creates a list of strings and \n",
    "# then removes all elements that contain a specific substring. Print the final list.\n",
    "str = ['Hello my name is Abhishek and Abhi is what I prefer being called.']\n"
   ]
  }
 ],
 "metadata": {
  "kernelspec": {
   "display_name": "base",
   "language": "python",
   "name": "python3"
  },
  "language_info": {
   "codemirror_mode": {
    "name": "ipython",
    "version": 3
   },
   "file_extension": ".py",
   "mimetype": "text/x-python",
   "name": "python",
   "nbconvert_exporter": "python",
   "pygments_lexer": "ipython3",
   "version": "3.10.8"
  },
  "orig_nbformat": 4,
  "vscode": {
   "interpreter": {
    "hash": "038bb113ee68bdf6d5e6f52203b1aa89be1437f61805c214c4f8e51fe088bf96"
   }
  }
 },
 "nbformat": 4,
 "nbformat_minor": 2
}
