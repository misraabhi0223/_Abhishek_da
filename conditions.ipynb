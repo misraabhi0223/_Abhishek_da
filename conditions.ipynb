{
 "cells": [
  {
   "cell_type": "code",
   "execution_count": 2,
   "metadata": {},
   "outputs": [
    {
     "name": "stdout",
     "output_type": "stream",
     "text": [
      "Yes✔\n"
     ]
    }
   ],
   "source": [
    "x = 6\n",
    "if x > 5:\n",
    "    print(\"Yes✔\")\n",
    "else:\n",
    "    print(\"No×\")"
   ]
  },
  {
   "cell_type": "code",
   "execution_count": 3,
   "metadata": {},
   "outputs": [
    {
     "name": "stdout",
     "output_type": "stream",
     "text": [
      "You followed the instructions\n",
      "Good Job👍\n"
     ]
    }
   ],
   "source": [
    "a = input(\"Enter a number: \")\n",
    "if a.isnumeric():\n",
    "    print(\"You followed the instructions\")\n",
    "    print(\"Good Job👍\")\n",
    "else:\n",
    "    print(\"You didn't followed the instructions\")\n",
    "    print(\"Try Again\")"
   ]
  },
  {
   "cell_type": "code",
   "execution_count": 4,
   "metadata": {},
   "outputs": [
    {
     "name": "stdout",
     "output_type": "stream",
     "text": [
      "Your order is on the way\n"
     ]
    }
   ],
   "source": [
    "menu = [\"pizza\", \"pasta\", \"salad\"]\n",
    "order = input(\"What would you like to order?: \")\n",
    "if order in menu:\n",
    "    print(\"Your order is on the way\")\n",
    "else:\n",
    "    print(\"Agle saal aana\")"
   ]
  },
  {
   "cell_type": "code",
   "execution_count": 5,
   "metadata": {},
   "outputs": [
    {
     "name": "stdout",
     "output_type": "stream",
     "text": [
      "E\n"
     ]
    }
   ],
   "source": [
    "x = int(input(\"Enter number: \"))\n",
    "if x < 20:\n",
    "    print(\"E\")\n",
    "elif x >= 20 and x < 40:\n",
    "    print(\"D\")\n",
    "elif x >= 40 and x < 60:\n",
    "    print(\"C\")\n",
    "elif x >= 60 and x < 80:\n",
    "    print(\"A\")\n",
    "elif x >= 80 and x < 100:\n",
    "    print(\"S\")\n",
    "else:\n",
    "    print(\"Invalid entry\")"
   ]
  },
  {
   "attachments": {},
   "cell_type": "markdown",
   "metadata": {},
   "source": [
    "nested conditions"
   ]
  },
  {
   "cell_type": "code",
   "execution_count": 7,
   "metadata": {},
   "outputs": [
    {
     "name": "stdout",
     "output_type": "stream",
     "text": [
      "Hurray🙌✌\n"
     ]
    }
   ],
   "source": [
    "uname = input(\"Enter your username = \")\n",
    "email = input(\"Enter your email id = \")\n",
    "pwd = input(\"Enter password = \")\n",
    "pwd2 = input(\"Confirm password = \")\n",
    "if len(uname) >= 4 and len(uname) < 16:\n",
    "    if '@' in email and len(email) > 6:\n",
    "        if len(pwd) >= 8 and len(pwd) <= 20 and pwd != uname:\n",
    "            if pwd == pwd2:\n",
    "                print(\"Hurray🙌✌\")\n",
    "            else:\n",
    "                print(\"Passwords do not match\")\n",
    "        else:\n",
    "            print(\"Password invalid\")\n",
    "    else:\n",
    "        print(\"Email is invalid\")\n",
    "else:\n",
    "    print(\"Username is invalid\")\n"
   ]
  },
  {
   "attachments": {},
   "cell_type": "markdown",
   "metadata": {},
   "source": [
    "match case\n",
    "......\n",
    "match expression:\n",
    "    case pattern1:\n",
    "        statement1\n",
    "    case pattern2:\n",
    "        statement2\n",
    "    case _:\n",
    "        statement3"
   ]
  },
  {
   "cell_type": "code",
   "execution_count": 8,
   "metadata": {},
   "outputs": [
    {
     "name": "stdout",
     "output_type": "stream",
     "text": [
      "I don't care who you are\n"
     ]
    }
   ],
   "source": [
    "name = input(\"Enter your name: \")\n",
    "match name:\n",
    "    case \"abhishek\":\n",
    "        print(\"So, you are abhishek\")\n",
    "    case \"Vijay\":\n",
    "        print(\"Cool Cool, You are Abhishek\")\n",
    "    case _:\n",
    "        print(\"I don't care who you are\")"
   ]
  },
  {
   "attachments": {},
   "cell_type": "markdown",
   "metadata": {},
   "source": [
    "wap to generate total salary of employee based on their designation\n",
    "1. if designation is manager then base salary is 50000\n",
    "2. if designation is developer then base salary is 40000\n",
    "3. if designation is tester then base salary is 30000\n",
    "4. apply 10% bonus for manager\n",
    "5. apply 20% bonus for developer\n",
    "6. apply 30% bonus for tester\n",
    "7. add hra of 20% of base salary\n",
    "    use econdition in match case"
   ]
  },
  {
   "cell_type": "code",
   "execution_count": 10,
   "metadata": {},
   "outputs": [
    {
     "name": "stdout",
     "output_type": "stream",
     "text": [
      "total salary : 56000.0\n"
     ]
    }
   ],
   "source": [
    "designation = input(\"Enter your designation: \")\n",
    "match designation:\n",
    "    case 'manager':\n",
    "        bs = 50000\n",
    "        bns = bs * 0.1\n",
    "        hra = bs * 0.2\n",
    "        ts = bs + bns + hra\n",
    "        print(f'total salary : {ts}')\n",
    "    case 'developer':\n",
    "        bs = 40000\n",
    "        bns = bs * 0.2\n",
    "        hra = bs * 0.2\n",
    "        ts = bs + bns + hra\n",
    "        print(f'total salary : {ts}') \n",
    "    case 'tester':\n",
    "        bs = 30000\n",
    "        bns = bs * 0.3\n",
    "        hra = bs * 0.2\n",
    "        ts = bs + bns + hra\n",
    "        print(f'total salary : {ts}')\n",
    "    case _:\n",
    "        print(\"You are fired\")"
   ]
  },
  {
   "cell_type": "code",
   "execution_count": null,
   "metadata": {},
   "outputs": [],
   "source": [
    "if designation == 'manager':\n",
    "    pass\n",
    "elif designation == 'developer':\n",
    "    pass\n",
    "elif designation == 'tester':\n",
    "    pass\n",
    "else:\n",
    "    print(\"You are fired\")"
   ]
  }
 ],
 "metadata": {
  "kernelspec": {
   "display_name": "base",
   "language": "python",
   "name": "python3"
  },
  "language_info": {
   "codemirror_mode": {
    "name": "ipython",
    "version": 3
   },
   "file_extension": ".py",
   "mimetype": "text/x-python",
   "name": "python",
   "nbconvert_exporter": "python",
   "pygments_lexer": "ipython3",
   "version": "3.10.8"
  },
  "orig_nbformat": 4,
  "vscode": {
   "interpreter": {
    "hash": "038bb113ee68bdf6d5e6f52203b1aa89be1437f61805c214c4f8e51fe088bf96"
   }
  }
 },
 "nbformat": 4,
 "nbformat_minor": 2
}
