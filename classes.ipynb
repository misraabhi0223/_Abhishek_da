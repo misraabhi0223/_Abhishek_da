{
 "cells": [
  {
   "cell_type": "code",
   "execution_count": 1,
   "metadata": {},
   "outputs": [
    {
     "name": "stdout",
     "output_type": "stream",
     "text": [
      "<class 'str'>\n"
     ]
    }
   ],
   "source": [
    "x = \"hello\"\n",
    "print(type(x))"
   ]
  },
  {
   "cell_type": "code",
   "execution_count": 7,
   "metadata": {},
   "outputs": [],
   "source": [
    "class Dog:\n",
    "    def bark(self):\n",
    "        print(\"Woof\")\n",
    "    def bite(self, item):\n",
    "        print(f'Biting {item}')\n",
    "    def __init__(self, age, breed, gender):              # __init__-dunder method\n",
    "        self.age = age\n",
    "        self.breed = breed\n",
    "        self.gender = gender"
   ]
  },
  {
   "cell_type": "code",
   "execution_count": 8,
   "metadata": {},
   "outputs": [
    {
     "name": "stdout",
     "output_type": "stream",
     "text": [
      "Woof\n",
      "Biting Shoe\n",
      "Biting Pillow\n",
      "Woof\n",
      "Woof\n"
     ]
    }
   ],
   "source": [
    "tiger = Dog(3, \"German Shepherd\", \"Male\")\n",
    "simba = Dog(4, \"Chow Chow\", \"Male\")\n",
    "\n",
    "tiger.bark()\n",
    "simba.bite('Shoe')\n",
    "tiger.bite('Pillow')\n",
    "simba.bark()\n",
    "simba.bark()"
   ]
  }
 ],
 "metadata": {
  "kernelspec": {
   "display_name": "base",
   "language": "python",
   "name": "python3"
  },
  "language_info": {
   "codemirror_mode": {
    "name": "ipython",
    "version": 3
   },
   "file_extension": ".py",
   "mimetype": "text/x-python",
   "name": "python",
   "nbconvert_exporter": "python",
   "pygments_lexer": "ipython3",
   "version": "3.10.8"
  },
  "orig_nbformat": 4
 },
 "nbformat": 4,
 "nbformat_minor": 2
}
