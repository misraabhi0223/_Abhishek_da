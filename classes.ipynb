{
 "cells": [
  {
   "cell_type": "code",
   "execution_count": 1,
   "metadata": {},
   "outputs": [
    {
     "name": "stdout",
     "output_type": "stream",
     "text": [
      "<class 'str'>\n"
     ]
    }
   ],
   "source": [
    "x = \"hello\"\n",
    "print(type(x))"
   ]
  },
  {
   "cell_type": "code",
   "execution_count": 7,
   "metadata": {},
   "outputs": [],
   "source": [
    "class Dog:\n",
    "    def bark(self):\n",
    "        print(\"Woof\")\n",
    "    def bite(self, item):\n",
    "        print(f'Biting {item}')\n",
    "    def __init__(self, age, breed, gender):              # __init__-dunder method\n",
    "        self.age = age\n",
    "        self.breed = breed\n",
    "        self.gender = gender"
   ]
  },
  {
   "cell_type": "code",
   "execution_count": 8,
   "metadata": {},
   "outputs": [
    {
     "name": "stdout",
     "output_type": "stream",
     "text": [
      "Woof\n",
      "Biting Shoe\n",
      "Biting Pillow\n",
      "Woof\n",
      "Woof\n"
     ]
    }
   ],
   "source": [
    "tiger = Dog(3, \"German Shepherd\", \"Male\")\n",
    "simba = Dog(4, \"Chow Chow\", \"Male\")\n",
    "\n",
    "tiger.bark()\n",
    "simba.bite('Shoe')\n",
    "tiger.bite('Pillow')\n",
    "simba.bark()\n",
    "simba.bark()"
   ]
  },
  {
   "cell_type": "code",
   "execution_count": 2,
   "metadata": {},
   "outputs": [
    {
     "name": "stdout",
     "output_type": "stream",
     "text": [
      "[1, 2, 3, 3, 5]\n",
      "[5, 6, 3, 1, 5]\n"
     ]
    }
   ],
   "source": [
    "x = [1, 2, 3, 3, 5]\n",
    "y = [5, 6, 3, 1, 5]\n",
    "\n",
    "print(x)\n",
    "print(y)"
   ]
  },
  {
   "cell_type": "code",
   "execution_count": 6,
   "metadata": {},
   "outputs": [],
   "source": [
    "class super_list(list):\n",
    "    def sum(self):\n",
    "        return sum(self)\n",
    "    \n",
    "    def mean(self):\n",
    "        return sum(self)/len(self)\n",
    "    \n",
    "    def size(self):\n",
    "        return len(self)"
   ]
  },
  {
   "cell_type": "code",
   "execution_count": 11,
   "metadata": {},
   "outputs": [
    {
     "name": "stdout",
     "output_type": "stream",
     "text": [
      "2.8\n",
      "4.0\n",
      "5\n",
      "5\n",
      "14\n",
      "20\n",
      "[1, 2, 3, 3, 5, 8]\n",
      "[5, 6, 3, 1, 5, 7]\n"
     ]
    }
   ],
   "source": [
    "x = super_list([1, 2, 3, 3, 5])\n",
    "y = super_list([5, 6, 3, 1, 5])\n",
    "print(x.mean())\n",
    "print(y.mean())\n",
    "print(x.size())\n",
    "print(y.size())\n",
    "print(x.sum())\n",
    "print(y.sum())\n",
    "x.append(8)\n",
    "y.append(7)\n",
    "print(x)\n",
    "print(y)"
   ]
  },
  {
   "cell_type": "code",
   "execution_count": 12,
   "metadata": {},
   "outputs": [],
   "source": [
    "from dataclasses import dataclass\n",
    "\n",
    "@dataclass\n",
    "class Product:\n",
    "    id:int\n",
    "    name:str\n",
    "    price:float\n",
    "    brand:str\n",
    "    category:str\n",
    "    description:str\n",
    "    stock:int\n",
    "    rating:float"
   ]
  },
  {
   "cell_type": "code",
   "execution_count": 13,
   "metadata": {},
   "outputs": [
    {
     "data": {
      "text/plain": [
       "Product(id=1, name='Samsung', price=20000, brand='Galaxy S Series', category='Electronics', description='Samsung Galaxy S22', stock=50, rating=5.0)"
      ]
     },
     "execution_count": 13,
     "metadata": {},
     "output_type": "execute_result"
    }
   ],
   "source": [
    "p = Product(1, 'Samsung', 20000, 'Galaxy S Series', 'Electronics', 'Samsung Galaxy S22', 50, 5.0)\n",
    "p"
   ]
  }
 ],
 "metadata": {
  "kernelspec": {
   "display_name": "base",
   "language": "python",
   "name": "python3"
  },
  "language_info": {
   "codemirror_mode": {
    "name": "ipython",
    "version": 3
   },
   "file_extension": ".py",
   "mimetype": "text/x-python",
   "name": "python",
   "nbconvert_exporter": "python",
   "pygments_lexer": "ipython3",
   "version": "3.10.8"
  },
  "orig_nbformat": 4
 },
 "nbformat": 4,
 "nbformat_minor": 2
}
