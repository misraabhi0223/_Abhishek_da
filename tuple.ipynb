{
 "cells": [
  {
   "attachments": {},
   "cell_type": "markdown",
   "metadata": {},
   "source": [
    "list data structures\n",
    "1. list\n",
    "2. tuple\n",
    "3. set\n",
    "4. dictionary"
   ]
  },
  {
   "attachments": {},
   "cell_type": "markdown",
   "metadata": {},
   "source": [
    "tuple properties\n",
    "1. ordered(sequence)\n",
    "2. indexed\n",
    "3. immutable(unchangeable)\n",
    "4. allow duplicate values\n",
    "5. heterogeneous(different types of data)\n",
    "6. tuple is denoted by round brackets[()]\n",
    "7. an iterable can be convertedto tuple using tuple() function"
   ]
  },
  {
   "cell_type": "code",
   "execution_count": 1,
   "metadata": {},
   "outputs": [
    {
     "name": "stdout",
     "output_type": "stream",
     "text": [
      "(1, 2, 3, 4)\n"
     ]
    }
   ],
   "source": [
    "x = (1, 2, 3, 4) # simple tuple\n",
    "print(x)"
   ]
  },
  {
   "cell_type": "code",
   "execution_count": 2,
   "metadata": {},
   "outputs": [],
   "source": [
    "y = 12, 56, 23, 45  # tuple packing"
   ]
  },
  {
   "cell_type": "code",
   "execution_count": 3,
   "metadata": {},
   "outputs": [
    {
     "name": "stdout",
     "output_type": "stream",
     "text": [
      "12 45 125\n",
      "12 [45, 125]\n"
     ]
    }
   ],
   "source": [
    "a, b, c = (12, 45, 125) # tuple unpacking\n",
    "print(a, b, c)\n",
    "a, *b = (12, 45, 125)\n",
    "print(a, b)\n",
    "# a, b, c, d = (1, 2, 3) # less value to unpack\n",
    "# a, b = (1, 2, 3)       # too many values to unpack"
   ]
  },
  {
   "cell_type": "code",
   "execution_count": 4,
   "metadata": {},
   "outputs": [
    {
     "name": "stdout",
     "output_type": "stream",
     "text": [
      "(1, 2, 3, 4)\n",
      "('A', 'l', 'u', 'm', 'i', 'n', 'i', 'u', 'm')\n"
     ]
    }
   ],
   "source": [
    "x = [1, 2, 3, 4]     # a simple list\n",
    "xt = tuple(x)       # converts list to tuple\n",
    "z = 'Aluminium'\n",
    "zt = tuple(z)       # convert string to tuple\n",
    "print(xt, zt, sep='\\n')"
   ]
  },
  {
   "cell_type": "code",
   "execution_count": 5,
   "metadata": {},
   "outputs": [
    {
     "name": "stdout",
     "output_type": "stream",
     "text": [
      "4\n"
     ]
    }
   ],
   "source": [
    "y = (1, 2, 3, 4, 5, 1, 12, 3, 12, 3, 12, 31, 23, 1, 2, 45, 3, 213, 21, 31, 2, 31)\n",
    "print(y.count(3))   # count the number of times 3 appears in the tuple"
   ]
  },
  {
   "cell_type": "code",
   "execution_count": 6,
   "metadata": {},
   "outputs": [
    {
     "name": "stdout",
     "output_type": "stream",
     "text": [
      "6\n"
     ]
    }
   ],
   "source": [
    "print(y.index(12))"
   ]
  }
 ],
 "metadata": {
  "kernelspec": {
   "display_name": "base",
   "language": "python",
   "name": "python3"
  },
  "language_info": {
   "codemirror_mode": {
    "name": "ipython",
    "version": 3
   },
   "file_extension": ".py",
   "mimetype": "text/x-python",
   "name": "python",
   "nbconvert_exporter": "python",
   "pygments_lexer": "ipython3",
   "version": "3.10.8"
  },
  "orig_nbformat": 4,
  "vscode": {
   "interpreter": {
    "hash": "038bb113ee68bdf6d5e6f52203b1aa89be1437f61805c214c4f8e51fe088bf96"
   }
  }
 },
 "nbformat": 4,
 "nbformat_minor": 2
}
