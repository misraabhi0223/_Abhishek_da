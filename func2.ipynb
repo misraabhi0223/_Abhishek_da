{
 "cells": [
  {
   "attachments": {},
   "cell_type": "markdown",
   "metadata": {},
   "source": [
    "variable arguments(innumber of args)"
   ]
  },
  {
   "cell_type": "code",
   "execution_count": 2,
   "metadata": {},
   "outputs": [],
   "source": [
    "# traditional\n",
    "def add(x, y, z, a, b, c, d, e, f,g):\n",
    "    return x+y+z+a+b+c+d+e+f+g+h"
   ]
  },
  {
   "cell_type": "code",
   "execution_count": 3,
   "metadata": {},
   "outputs": [],
   "source": [
    "def add_v2(*args):\n",
    "    total = 0\n",
    "    for i in args:\n",
    "        total += i\n",
    "    return total"
   ]
  },
  {
   "cell_type": "code",
   "execution_count": 4,
   "metadata": {},
   "outputs": [
    {
     "name": "stdout",
     "output_type": "stream",
     "text": [
      "12\n",
      "50\n"
     ]
    }
   ],
   "source": [
    "print(add_v2(12))\n",
    "print(add_v2(12, 13, 25))"
   ]
  },
  {
   "cell_type": "code",
   "execution_count": 5,
   "metadata": {},
   "outputs": [
    {
     "name": "stdout",
     "output_type": "stream",
     "text": [
      "35.125\n"
     ]
    }
   ],
   "source": [
    "def average(*val):\n",
    "    return sum(val)/len(val)\n",
    "\n",
    "ans = average(12, 23, 56, 45, 56, 32, 12, 45)\n",
    "print(ans)"
   ]
  },
  {
   "attachments": {},
   "cell_type": "markdown",
   "metadata": {},
   "source": [
    "**kwargs(variable keyword arguments)(n number of keyword arguments)"
   ]
  },
  {
   "cell_type": "code",
   "execution_count": 6,
   "metadata": {},
   "outputs": [],
   "source": [
    "def display_menu(**items):\n",
    "    if len(items) > 0:\n",
    "        for i in items:\n",
    "            print(f' {i:10} ${items[i]}')"
   ]
  },
  {
   "cell_type": "code",
   "execution_count": 7,
   "metadata": {},
   "outputs": [
    {
     "name": "stdout",
     "output_type": "stream",
     "text": [
      " idli       $40\n",
      " dosa       $50\n",
      " vada       $30\n",
      " upma       $20\n"
     ]
    }
   ],
   "source": [
    "display_menu(idli=40, dosa=50, vada=30, upma=20)"
   ]
  },
  {
   "cell_type": "code",
   "execution_count": 8,
   "metadata": {},
   "outputs": [
    {
     "name": "stdout",
     "output_type": "stream",
     "text": [
      " chowmein   $80\n",
      " dumpling   $40\n",
      " momo       $50\n"
     ]
    }
   ],
   "source": [
    "display_menu(chowmein=80, dumpling=40, momo=50)"
   ]
  },
  {
   "cell_type": "code",
   "execution_count": 9,
   "metadata": {},
   "outputs": [
    {
     "name": "stdout",
     "output_type": "stream",
     "text": [
      "297\n",
      "869\n",
      "708\n",
      "-308\n"
     ]
    }
   ],
   "source": [
    "#anonymous function\n",
    "xlist = [21, 45, 62, 76]\n",
    "ylist = [12, 34, 56, 78]\n",
    "\n",
    "def eq(x, y):\n",
    "    return (x+y) * (x-y)\n",
    "\n",
    "for i, j in zip(xlist, ylist):\n",
    "    print(eq(i, j))"
   ]
  },
  {
   "cell_type": "code",
   "execution_count": 10,
   "metadata": {},
   "outputs": [],
   "source": [
    "f = lambda x : x + 10 / x - 10 * x - 10"
   ]
  },
  {
   "cell_type": "code",
   "execution_count": 11,
   "metadata": {},
   "outputs": [
    {
     "data": {
      "text/plain": [
       "-819.8888888888889"
      ]
     },
     "execution_count": 11,
     "metadata": {},
     "output_type": "execute_result"
    }
   ],
   "source": [
    "f(90)"
   ]
  },
  {
   "cell_type": "code",
   "execution_count": 12,
   "metadata": {},
   "outputs": [
    {
     "data": {
      "text/plain": [
       "[297, 869, 708, -308]"
      ]
     },
     "execution_count": 12,
     "metadata": {},
     "output_type": "execute_result"
    }
   ],
   "source": [
    "list(map(lambda x, y : (x + y) * (x - y), xlist, ylist))"
   ]
  },
  {
   "cell_type": "code",
   "execution_count": 13,
   "metadata": {},
   "outputs": [],
   "source": [
    "# initials\n",
    "names = ['Abhishek Kumar', 'Anand Bahadur', 'Alok Shukla', 'Janvi Dixit', 'Shwetank Tiwari', 'Sumit Verma']"
   ]
  },
  {
   "cell_type": "code",
   "execution_count": 14,
   "metadata": {},
   "outputs": [
    {
     "name": "stdout",
     "output_type": "stream",
     "text": [
      "Abhishek Kumar AK\n",
      "Anand Bahadur AB\n",
      "Alok Shukla AS\n",
      "Janvi Dixit JD\n",
      "Shwetank Tiwari ST\n",
      "Sumit Verma SV\n"
     ]
    }
   ],
   "source": [
    "def get_initials(name):\n",
    "    return name.split()[0][0] + name.split()[1][0]\n",
    "for name in names:\n",
    "    print(name, get_initials(name))"
   ]
  },
  {
   "cell_type": "code",
   "execution_count": 15,
   "metadata": {},
   "outputs": [
    {
     "data": {
      "text/plain": [
       "['AK', 'AB', 'AS', 'JD', 'ST', 'SV']"
      ]
     },
     "execution_count": 15,
     "metadata": {},
     "output_type": "execute_result"
    }
   ],
   "source": [
    "list(map(lambda n: n.split()[0][0] + n.split()[1][0], names))"
   ]
  }
 ],
 "metadata": {
  "kernelspec": {
   "display_name": "base",
   "language": "python",
   "name": "python3"
  },
  "language_info": {
   "codemirror_mode": {
    "name": "ipython",
    "version": 3
   },
   "file_extension": ".py",
   "mimetype": "text/x-python",
   "name": "python",
   "nbconvert_exporter": "python",
   "pygments_lexer": "ipython3",
   "version": "3.10.8"
  },
  "orig_nbformat": 4,
  "vscode": {
   "interpreter": {
    "hash": "038bb113ee68bdf6d5e6f52203b1aa89be1437f61805c214c4f8e51fe088bf96"
   }
  }
 },
 "nbformat": 4,
 "nbformat_minor": 2
}
