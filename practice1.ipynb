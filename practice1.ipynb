{
 "cells": [
  {
   "cell_type": "code",
   "execution_count": 9,
   "metadata": {},
   "outputs": [
    {
     "name": "stdout",
     "output_type": "stream",
     "text": [
      "Fibonacci series upto 8 terms: 1 2 3 5 8 13 21 34 \n"
     ]
    }
   ],
   "source": [
    "# 1. WAP to print a fibonacci series upto n terms.\n",
    "n = 8\n",
    "num1, num2 = 1, 2\n",
    "print(\"Fibonacci series upto\",n, \"terms:\", num1, num2, end = \" \")\n",
    "for i in range(2, n):\n",
    "    num3 = num1 + num2\n",
    "    num1 = num2\n",
    "    num2 = num3\n",
    "    print(num3, end = \" \")\n",
    "\n",
    "print()"
   ]
  },
  {
   "cell_type": "code",
   "execution_count": 18,
   "metadata": {},
   "outputs": [
    {
     "name": "stdout",
     "output_type": "stream",
     "text": [
      "153\n"
     ]
    }
   ],
   "source": [
    "# 2. WAP to print armstrong number upto n terms.\n",
    "a = 10\n",
    "b = 200\n",
    "for i in range(a, b + 1):\n",
    "    order = len(str(i))\n",
    "    sum = 0\n",
    "    temp = i\n",
    "    while temp > 0:\n",
    "        digit = temp % 10\n",
    "        sum += digit ** order\n",
    "        temp //= 10\n",
    "    if i == sum:\n",
    "        print(i)\n"
   ]
  },
  {
   "cell_type": "code",
   "execution_count": 27,
   "metadata": {},
   "outputs": [
    {
     "name": "stdout",
     "output_type": "stream",
     "text": [
      "53\n"
     ]
    }
   ],
   "source": [
    "# 3. WAP to print the sum of digits of a number.\n",
    "num = input(\"Enter Number to check sum: \")\n",
    "sum = 0\n",
    "for i in num:\n",
    "    sum = sum + int(i)\n",
    "\n",
    "print(sum)"
   ]
  },
  {
   "cell_type": "code",
   "execution_count": 29,
   "metadata": {},
   "outputs": [
    {
     "name": "stdout",
     "output_type": "stream",
     "text": [
      "[0, 1, 2, 3, 5, 8, 10, 13, 20, 24, 32]\n"
     ]
    }
   ],
   "source": [
    "# 4. WAP to sort a list entered by the user without using sort function.\n",
    "items = [3, 5, 1, 0, 13, 20, 2, 10, 32, 24, 8]\n",
    "for i in range(len(items)):\n",
    "    for j in range(i + 1, len(items)):\n",
    "        if(items[i] > items[j]):\n",
    "            items[i], items[j] = items[j], items[i]\n",
    "\n",
    "print(items)"
   ]
  }
 ],
 "metadata": {
  "kernelspec": {
   "display_name": "base",
   "language": "python",
   "name": "python3"
  },
  "language_info": {
   "codemirror_mode": {
    "name": "ipython",
    "version": 3
   },
   "file_extension": ".py",
   "mimetype": "text/x-python",
   "name": "python",
   "nbconvert_exporter": "python",
   "pygments_lexer": "ipython3",
   "version": "3.10.8"
  },
  "orig_nbformat": 4,
  "vscode": {
   "interpreter": {
    "hash": "038bb113ee68bdf6d5e6f52203b1aa89be1437f61805c214c4f8e51fe088bf96"
   }
  }
 },
 "nbformat": 4,
 "nbformat_minor": 2
}
